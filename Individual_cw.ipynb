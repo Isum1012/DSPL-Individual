{
  "nbformat": 4,
  "nbformat_minor": 0,
  "metadata": {
    "colab": {
      "provenance": [],
      "mount_file_id": "1HADlkJJrXes3HTW-acEqhcAPt94x7hGt",
      "authorship_tag": "ABX9TyMffXOlWbCatAM4b3GIoFHo",
      "include_colab_link": true
    },
    "kernelspec": {
      "name": "python3",
      "display_name": "Python 3"
    },
    "language_info": {
      "name": "python"
    }
  },
  "cells": [
    {
      "cell_type": "markdown",
      "metadata": {
        "id": "view-in-github",
        "colab_type": "text"
      },
      "source": [
        "<a href=\"https://colab.research.google.com/github/Isum1012/DSPL-Individual/blob/main/Individual_cw.ipynb\" target=\"_parent\"><img src=\"https://colab.research.google.com/assets/colab-badge.svg\" alt=\"Open In Colab\"/></a>"
      ]
    },
    {
      "cell_type": "code",
      "execution_count": null,
      "metadata": {
        "id": "i_Q_4QqWBDLz"
      },
      "outputs": [],
      "source": [
        "# Import neccesary libraries\n",
        "import pandas as pd"
      ]
    },
    {
      "cell_type": "code",
      "source": [
        "# Read csv file\n",
        "df = pd.read_csv(\"/content/drive/MyDrive/Data Science/trade_lka.csv\")"
      ],
      "metadata": {
        "id": "XnRxoOjRELKV"
      },
      "execution_count": null,
      "outputs": []
    },
    {
      "cell_type": "code",
      "source": [
        "# Remove the first row (which contains metadata, not actual data)\n",
        "df = df.iloc[1:].reset_index(drop=True)"
      ],
      "metadata": {
        "id": "9UWLjirGEWWl"
      },
      "execution_count": null,
      "outputs": []
    },
    {
      "cell_type": "code",
      "source": [
        "# Convert 'Year' to integer and 'Value' to float\n",
        "df['Year'] = pd.to_numeric(df['Year'], errors='coerce')\n",
        "df['Value'] = pd.to_numeric(df['Value'], errors='coerce')"
      ],
      "metadata": {
        "id": "19831qhsE8yT"
      },
      "execution_count": null,
      "outputs": []
    },
    {
      "cell_type": "code",
      "source": [
        "# Check and drop rows with missing values\n",
        "df = df.dropna(subset=['Year', 'Value'])"
      ],
      "metadata": {
        "id": "HODZDaQKFB8K"
      },
      "execution_count": null,
      "outputs": []
    },
    {
      "cell_type": "code",
      "source": [
        "# Reset index again after cleaning\n",
        "df = df.reset_index(drop=True)\n",
        "\n",
        "# Display cleaned data info\n",
        "print(df.info())\n",
        "print(df.head())"
      ],
      "metadata": {
        "colab": {
          "base_uri": "https://localhost:8080/"
        },
        "id": "q4PVqWSgQUMx",
        "outputId": "be4e120a-45fa-4af2-bcbc-3756462f61d2"
      },
      "execution_count": null,
      "outputs": [
        {
          "output_type": "stream",
          "name": "stdout",
          "text": [
            "<class 'pandas.core.frame.DataFrame'>\n",
            "RangeIndex: 5643 entries, 0 to 5642\n",
            "Data columns (total 6 columns):\n",
            " #   Column          Non-Null Count  Dtype  \n",
            "---  ------          --------------  -----  \n",
            " 0   Country Name    5643 non-null   object \n",
            " 1   Country ISO3    5643 non-null   object \n",
            " 2   Year            5643 non-null   int64  \n",
            " 3   Indicator Name  5643 non-null   object \n",
            " 4   Indicator Code  5643 non-null   object \n",
            " 5   Value           5643 non-null   float64\n",
            "dtypes: float64(1), int64(1), object(4)\n",
            "memory usage: 264.6+ KB\n",
            "None\n",
            "  Country Name Country ISO3  Year                Indicator Name  \\\n",
            "0    Sri Lanka          LKA  2023  Trade in services (% of GDP)   \n",
            "1    Sri Lanka          LKA  2022  Trade in services (% of GDP)   \n",
            "2    Sri Lanka          LKA  2021  Trade in services (% of GDP)   \n",
            "3    Sri Lanka          LKA  2020  Trade in services (% of GDP)   \n",
            "4    Sri Lanka          LKA  2019  Trade in services (% of GDP)   \n",
            "\n",
            "      Indicator Code      Value  \n",
            "0  BG.GSR.NFSV.GD.ZS   8.805571  \n",
            "1  BG.GSR.NFSV.GD.ZS   5.415105  \n",
            "2  BG.GSR.NFSV.GD.ZS   3.795955  \n",
            "3  BG.GSR.NFSV.GD.ZS   6.229021  \n",
            "4  BG.GSR.NFSV.GD.ZS  13.592342  \n"
          ]
        }
      ]
    },
    {
      "cell_type": "code",
      "source": [
        "# Save the cleaned data to a new CSV file\n",
        "df.to_csv(\"cleaned_dataset.csv\", index=False)"
      ],
      "metadata": {
        "id": "NOzsmng5Qma3"
      },
      "execution_count": null,
      "outputs": []
    }
  ]
}